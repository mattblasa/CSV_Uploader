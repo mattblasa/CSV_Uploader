{
 "cells": [
  {
   "cell_type": "code",
   "execution_count": 2,
   "metadata": {},
   "outputs": [],
   "source": [
    "import pandas as pd \n",
    "import numpy as np\n",
    "import os \n",
    "from sqlalchemy import create_engine"
   ]
  },
  {
   "cell_type": "code",
   "execution_count": 3,
   "metadata": {},
   "outputs": [],
   "source": [
    "#using a list of csv, creates a df, assigns a name for each df from a list\n",
    "# turns it into a dataframe \n",
    "#pushes the dataframe to postgres server "
   ]
  },
  {
   "cell_type": "code",
   "execution_count": 4,
   "metadata": {},
   "outputs": [],
   "source": [
    "companies = ['AA', 'AAPL', 'BA', 'YHOO']"
   ]
  },
  {
   "cell_type": "code",
   "execution_count": 5,
   "metadata": {},
   "outputs": [],
   "source": [
    "for c in companies:\n",
    "     exec('{} = pd.DataFrame()'.format(c))"
   ]
  },
  {
   "cell_type": "code",
   "execution_count": 8,
   "metadata": {},
   "outputs": [
    {
     "data": {
      "text/html": [
       "<div>\n",
       "<style scoped>\n",
       "    .dataframe tbody tr th:only-of-type {\n",
       "        vertical-align: middle;\n",
       "    }\n",
       "\n",
       "    .dataframe tbody tr th {\n",
       "        vertical-align: top;\n",
       "    }\n",
       "\n",
       "    .dataframe thead th {\n",
       "        text-align: right;\n",
       "    }\n",
       "</style>\n",
       "<table border=\"1\" class=\"dataframe\">\n",
       "  <thead>\n",
       "    <tr style=\"text-align: right;\">\n",
       "      <th></th>\n",
       "    </tr>\n",
       "  </thead>\n",
       "  <tbody>\n",
       "  </tbody>\n",
       "</table>\n",
       "</div>"
      ],
      "text/plain": [
       "Empty DataFrame\n",
       "Columns: []\n",
       "Index: []"
      ]
     },
     "execution_count": 8,
     "metadata": {},
     "output_type": "execute_result"
    }
   ],
   "source": [
    "#initalized empty dataframe\n",
    "AA "
   ]
  },
  {
   "cell_type": "code",
   "execution_count": 9,
   "metadata": {},
   "outputs": [
    {
     "data": {
      "text/html": [
       "<div>\n",
       "<style scoped>\n",
       "    .dataframe tbody tr th:only-of-type {\n",
       "        vertical-align: middle;\n",
       "    }\n",
       "\n",
       "    .dataframe tbody tr th {\n",
       "        vertical-align: top;\n",
       "    }\n",
       "\n",
       "    .dataframe thead th {\n",
       "        text-align: right;\n",
       "    }\n",
       "</style>\n",
       "<table border=\"1\" class=\"dataframe\">\n",
       "  <thead>\n",
       "    <tr style=\"text-align: right;\">\n",
       "      <th></th>\n",
       "    </tr>\n",
       "  </thead>\n",
       "  <tbody>\n",
       "  </tbody>\n",
       "</table>\n",
       "</div>"
      ],
      "text/plain": [
       "Empty DataFrame\n",
       "Columns: []\n",
       "Index: []"
      ]
     },
     "execution_count": 9,
     "metadata": {},
     "output_type": "execute_result"
    }
   ],
   "source": [
    "BA"
   ]
  },
  {
   "cell_type": "code",
   "execution_count": 10,
   "metadata": {},
   "outputs": [],
   "source": [
    "d = {name: pd.DataFrame() for name in companies}"
   ]
  },
  {
   "cell_type": "code",
   "execution_count": 11,
   "metadata": {},
   "outputs": [
    {
     "data": {
      "text/plain": [
       "{'AA': Empty DataFrame\n",
       " Columns: []\n",
       " Index: [],\n",
       " 'AAPL': Empty DataFrame\n",
       " Columns: []\n",
       " Index: [],\n",
       " 'BA': Empty DataFrame\n",
       " Columns: []\n",
       " Index: [],\n",
       " 'YHOO': Empty DataFrame\n",
       " Columns: []\n",
       " Index: []}"
      ]
     },
     "execution_count": 11,
     "metadata": {},
     "output_type": "execute_result"
    }
   ],
   "source": [
    "d"
   ]
  },
  {
   "cell_type": "markdown",
   "metadata": {},
   "source": [
    "Use glob to upload all files "
   ]
  },
  {
   "cell_type": "code",
   "execution_count": 12,
   "metadata": {},
   "outputs": [],
   "source": [
    "import glob"
   ]
  },
  {
   "cell_type": "code",
   "execution_count": 13,
   "metadata": {},
   "outputs": [
    {
     "name": "stdout",
     "output_type": "stream",
     "text": [
      "CSV_Upload_src.py\n"
     ]
    }
   ],
   "source": [
    "for py in glob.glob(\"*.py\"):\n",
    "    print(py)"
   ]
  },
  {
   "cell_type": "code",
   "execution_count": 36,
   "metadata": {},
   "outputs": [],
   "source": [
    "#create list of files \n",
    "files = ['do_not_use.csv', 'do_not_use2.csv', 'do_not_use3.csv']\n",
    "dfs_names = ['df1', 'df2', 'df3']\n",
    "dfs ={}\n",
    "\n",
    "\n",
    "def multi_csv(df_names, files):\n",
    "    for df_names,file in zip(dfs_names, files):\n",
    "        dfs[dfn] = pd.read_csv(file)\n",
    "    return dfs"
   ]
  },
  {
   "cell_type": "markdown",
   "metadata": {},
   "source": [
    "https://stackoverflow.com/questions/48888001/creating-multiple-dataframes-with-a-loop"
   ]
  },
  {
   "cell_type": "code",
   "execution_count": 38,
   "metadata": {},
   "outputs": [
    {
     "name": "stdout",
     "output_type": "stream",
     "text": [
      "(15307, 5)\n",
      "Unnamed: 0            int64\n",
      "Account_No            int64\n",
      "Month_ID              int64\n",
      "Product_Category     object\n",
      "Target              float64\n",
      "dtype: object\n",
      "(1145, 9)\n",
      "Unnamed: 0                int64\n",
      " New Account No          object\n",
      "New Account Name         object\n",
      "Industry                 object\n",
      "Sector                   object\n",
      "Account Segment          object\n",
      "Account Manager Alias    object\n",
      "Segment Manager          object\n",
      "Industry Manager         object\n",
      "dtype: object\n",
      "(1145, 9)\n",
      "Unnamed: 0                int64\n",
      " New Account No          object\n",
      "New Account Name         object\n",
      "Industry                 object\n",
      "Sector                   object\n",
      "Account Segment          object\n",
      "Account Manager Alias    object\n",
      "Segment Manager          object\n",
      "Industry Manager         object\n",
      "dtype: object\n",
      "      Unnamed: 0  New Account No        New Account Name  \\\n",
      "0              0           303143            Communities   \n",
      "1              1          1111978              DualLight   \n",
      "2              2          1414111          ReactRegister   \n",
      "3              3          1515106            Iselectrics   \n",
      "4              4          1515140                tism 19   \n",
      "...          ...              ...                    ...   \n",
      "1140        1140        384173130    Sonron Singletechno   \n",
      "1141        1141         66177812  Singletechno Rangreen   \n",
      "1142        1142        165171911       Rangreen J-Texon   \n",
      "1143        1143        170172916      J-Texon Rundofase   \n",
      "1144        1144        340172086       Rundofase Doncon   \n",
      "\n",
      "                   Industry                        Sector  \\\n",
      "0     Libraries and Museums         Libraries and Museums   \n",
      "1                   Banking                       Banking   \n",
      "2                 Retailers           General Merchandise   \n",
      "3           Pharmaceuticals               Pharmaceuticals   \n",
      "4          Higher Education              Higher Education   \n",
      "...                     ...                           ...   \n",
      "1140         Consumer Goods        Wholesale Distribution   \n",
      "1141               Defenses             National Security   \n",
      "1142                 Energy  Electricity and Gas Services   \n",
      "1143                 Energy                        Mining   \n",
      "1144                 Energy                   Oil and Gas   \n",
      "\n",
      "          Account Segment Account Manager Alias Segment Manager  \\\n",
      "0                SMC Comm               BECComs      Matthew L.   \n",
      "1     Priority Commercial               SWIDung      Stelios F.   \n",
      "2     Priority Commercial               UNDRese      Stelios F.   \n",
      "3     Priority Commercial               UNDIsls      Stelios F.   \n",
      "4           SMC Education               UNDmyon         Ben Mk.   \n",
      "...                   ...                   ...             ...   \n",
      "1140            Strategic                  Soon        Bilal G.   \n",
      "1141             SMC Comm                  Sity      Matthew L.   \n",
      "1142        SMC Education                  Raes         Ben Mk.   \n",
      "1143            Strategic                  J-ng        Bilal G.   \n",
      "1144          Priority PS                  Ruas       Andrew I.   \n",
      "\n",
      "     Industry Manager  \n",
      "0            Andre D.  \n",
      "1             Tina Q.  \n",
      "2            Garry N.  \n",
      "3              Rob K.  \n",
      "4             John Y.  \n",
      "...               ...  \n",
      "1140         Maria J.  \n",
      "1141         Melpo Y.  \n",
      "1142         Peter J.  \n",
      "1143         Peter J.  \n",
      "1144         Peter J.  \n",
      "\n",
      "[1145 rows x 9 columns]\n"
     ]
    }
   ],
   "source": [
    "files = ['do_not_use.csv', 'do_not_use2.csv', 'do_not_use3.csv']\n",
    "dfs_names = ['df1', 'df2', 'df3']\n",
    "dfs ={}\n",
    "for dfs_names,file in zip(dfs_names, files):\n",
    "    dfs[dfs_names] = pd.read_csv(file)\n",
    "    print(dfs[dfs_names].shape)\n",
    "    print(dfs[dfs_names].dtypes)\n",
    "print(dfs['df3'])"
   ]
  },
  {
   "cell_type": "code",
   "execution_count": 26,
   "metadata": {},
   "outputs": [
    {
     "name": "stdout",
     "output_type": "stream",
     "text": [
      "       Unnamed: 0  Account_No  Month_ID Product_Category      Target\n",
      "0               0    99696211       143  Online Products  2984094.12\n",
      "1               1    99696211       142  Online Products  2839413.36\n",
      "2               2    99696211       141  Online Products  2305564.80\n",
      "3               3    99696211       140  Online Products  2234395.80\n",
      "4               4    99696211       139  Online Products  1750056.00\n",
      "...           ...         ...       ...              ...         ...\n",
      "15302       15302    68888109       143          Support        0.84\n",
      "15303       15303    68888109       140          Support        0.84\n",
      "15304       15304    68888109       142          Support        0.84\n",
      "15305       15305    68888109       134          Support        0.84\n",
      "15306       15306    89393119       143          Support        0.84\n",
      "\n",
      "[15307 rows x 5 columns]\n",
      "      Unnamed: 0  New Account No        New Account Name  \\\n",
      "0              0           303143            Communities   \n",
      "1              1          1111978              DualLight   \n",
      "2              2          1414111          ReactRegister   \n",
      "3              3          1515106            Iselectrics   \n",
      "4              4          1515140                tism 19   \n",
      "...          ...              ...                    ...   \n",
      "1140        1140        384173130    Sonron Singletechno   \n",
      "1141        1141         66177812  Singletechno Rangreen   \n",
      "1142        1142        165171911       Rangreen J-Texon   \n",
      "1143        1143        170172916      J-Texon Rundofase   \n",
      "1144        1144        340172086       Rundofase Doncon   \n",
      "\n",
      "                   Industry                        Sector  \\\n",
      "0     Libraries and Museums         Libraries and Museums   \n",
      "1                   Banking                       Banking   \n",
      "2                 Retailers           General Merchandise   \n",
      "3           Pharmaceuticals               Pharmaceuticals   \n",
      "4          Higher Education              Higher Education   \n",
      "...                     ...                           ...   \n",
      "1140         Consumer Goods        Wholesale Distribution   \n",
      "1141               Defenses             National Security   \n",
      "1142                 Energy  Electricity and Gas Services   \n",
      "1143                 Energy                        Mining   \n",
      "1144                 Energy                   Oil and Gas   \n",
      "\n",
      "          Account Segment Account Manager Alias Segment Manager  \\\n",
      "0                SMC Comm               BECComs      Matthew L.   \n",
      "1     Priority Commercial               SWIDung      Stelios F.   \n",
      "2     Priority Commercial               UNDRese      Stelios F.   \n",
      "3     Priority Commercial               UNDIsls      Stelios F.   \n",
      "4           SMC Education               UNDmyon         Ben Mk.   \n",
      "...                   ...                   ...             ...   \n",
      "1140            Strategic                  Soon        Bilal G.   \n",
      "1141             SMC Comm                  Sity      Matthew L.   \n",
      "1142        SMC Education                  Raes         Ben Mk.   \n",
      "1143            Strategic                  J-ng        Bilal G.   \n",
      "1144          Priority PS                  Ruas       Andrew I.   \n",
      "\n",
      "     Industry Manager  \n",
      "0            Andre D.  \n",
      "1             Tina Q.  \n",
      "2            Garry N.  \n",
      "3              Rob K.  \n",
      "4             John Y.  \n",
      "...               ...  \n",
      "1140         Maria J.  \n",
      "1141         Melpo Y.  \n",
      "1142         Peter J.  \n",
      "1143         Peter J.  \n",
      "1144         Peter J.  \n",
      "\n",
      "[1145 rows x 9 columns]\n",
      "      Unnamed: 0  New Account No        New Account Name  \\\n",
      "0              0           303143            Communities   \n",
      "1              1          1111978              DualLight   \n",
      "2              2          1414111          ReactRegister   \n",
      "3              3          1515106            Iselectrics   \n",
      "4              4          1515140                tism 19   \n",
      "...          ...              ...                    ...   \n",
      "1140        1140        384173130    Sonron Singletechno   \n",
      "1141        1141         66177812  Singletechno Rangreen   \n",
      "1142        1142        165171911       Rangreen J-Texon   \n",
      "1143        1143        170172916      J-Texon Rundofase   \n",
      "1144        1144        340172086       Rundofase Doncon   \n",
      "\n",
      "                   Industry                        Sector  \\\n",
      "0     Libraries and Museums         Libraries and Museums   \n",
      "1                   Banking                       Banking   \n",
      "2                 Retailers           General Merchandise   \n",
      "3           Pharmaceuticals               Pharmaceuticals   \n",
      "4          Higher Education              Higher Education   \n",
      "...                     ...                           ...   \n",
      "1140         Consumer Goods        Wholesale Distribution   \n",
      "1141               Defenses             National Security   \n",
      "1142                 Energy  Electricity and Gas Services   \n",
      "1143                 Energy                        Mining   \n",
      "1144                 Energy                   Oil and Gas   \n",
      "\n",
      "          Account Segment Account Manager Alias Segment Manager  \\\n",
      "0                SMC Comm               BECComs      Matthew L.   \n",
      "1     Priority Commercial               SWIDung      Stelios F.   \n",
      "2     Priority Commercial               UNDRese      Stelios F.   \n",
      "3     Priority Commercial               UNDIsls      Stelios F.   \n",
      "4           SMC Education               UNDmyon         Ben Mk.   \n",
      "...                   ...                   ...             ...   \n",
      "1140            Strategic                  Soon        Bilal G.   \n",
      "1141             SMC Comm                  Sity      Matthew L.   \n",
      "1142        SMC Education                  Raes         Ben Mk.   \n",
      "1143            Strategic                  J-ng        Bilal G.   \n",
      "1144          Priority PS                  Ruas       Andrew I.   \n",
      "\n",
      "     Industry Manager  \n",
      "0            Andre D.  \n",
      "1             Tina Q.  \n",
      "2            Garry N.  \n",
      "3              Rob K.  \n",
      "4             John Y.  \n",
      "...               ...  \n",
      "1140         Maria J.  \n",
      "1141         Melpo Y.  \n",
      "1142         Peter J.  \n",
      "1143         Peter J.  \n",
      "1144         Peter J.  \n",
      "\n",
      "[1145 rows x 9 columns]\n"
     ]
    }
   ],
   "source": [
    "for period, df in dfs.items():\n",
    "    print(df)"
   ]
  },
  {
   "cell_type": "code",
   "execution_count": 39,
   "metadata": {},
   "outputs": [
    {
     "ename": "NameError",
     "evalue": "name 'df3' is not defined",
     "output_type": "error",
     "traceback": [
      "\u001b[1;31m---------------------------------------------------------------------------\u001b[0m",
      "\u001b[1;31mNameError\u001b[0m                                 Traceback (most recent call last)",
      "\u001b[1;32m<ipython-input-39-3357e37d2add>\u001b[0m in \u001b[0;36m<module>\u001b[1;34m\u001b[0m\n\u001b[1;32m----> 1\u001b[1;33m \u001b[0mdf3\u001b[0m\u001b[1;33m\u001b[0m\u001b[1;33m\u001b[0m\u001b[0m\n\u001b[0m",
      "\u001b[1;31mNameError\u001b[0m: name 'df3' is not defined"
     ]
    }
   ],
   "source": [
    "df3 = "
   ]
  },
  {
   "cell_type": "code",
   "execution_count": null,
   "metadata": {},
   "outputs": [],
   "source": []
  }
 ],
 "metadata": {
  "kernelspec": {
   "display_name": "Python 3",
   "language": "python",
   "name": "python3"
  },
  "language_info": {
   "codemirror_mode": {
    "name": "ipython",
    "version": 3
   },
   "file_extension": ".py",
   "mimetype": "text/x-python",
   "name": "python",
   "nbconvert_exporter": "python",
   "pygments_lexer": "ipython3",
   "version": "3.8.5"
  }
 },
 "nbformat": 4,
 "nbformat_minor": 4
}

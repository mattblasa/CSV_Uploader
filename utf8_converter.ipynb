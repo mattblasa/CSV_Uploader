{
 "cells": [
  {
   "cell_type": "code",
   "execution_count": 2,
   "metadata": {},
   "outputs": [],
   "source": [
    "import pandas as pd \n",
    "import numpy as np\n",
    "import os \n",
    "from sqlalchemy import create_engine"
   ]
  },
  {
   "cell_type": "code",
   "execution_count": 3,
   "metadata": {},
   "outputs": [],
   "source": [
    "df = pd.read_csv(\"Targets Raw Data.csv\", encoding ='latin1')"
   ]
  },
  {
   "cell_type": "code",
   "execution_count": 4,
   "metadata": {},
   "outputs": [
    {
     "data": {
      "text/html": [
       "<div>\n",
       "<style scoped>\n",
       "    .dataframe tbody tr th:only-of-type {\n",
       "        vertical-align: middle;\n",
       "    }\n",
       "\n",
       "    .dataframe tbody tr th {\n",
       "        vertical-align: top;\n",
       "    }\n",
       "\n",
       "    .dataframe thead th {\n",
       "        text-align: right;\n",
       "    }\n",
       "</style>\n",
       "<table border=\"1\" class=\"dataframe\">\n",
       "  <thead>\n",
       "    <tr style=\"text-align: right;\">\n",
       "      <th></th>\n",
       "      <th>Account_No</th>\n",
       "      <th>Month_ID</th>\n",
       "      <th>Product_Category</th>\n",
       "      <th>Target</th>\n",
       "    </tr>\n",
       "  </thead>\n",
       "  <tbody>\n",
       "    <tr>\n",
       "      <th>0</th>\n",
       "      <td>99696211</td>\n",
       "      <td>143</td>\n",
       "      <td>Online Products</td>\n",
       "      <td>2984094.12</td>\n",
       "    </tr>\n",
       "    <tr>\n",
       "      <th>1</th>\n",
       "      <td>99696211</td>\n",
       "      <td>142</td>\n",
       "      <td>Online Products</td>\n",
       "      <td>2839413.36</td>\n",
       "    </tr>\n",
       "    <tr>\n",
       "      <th>2</th>\n",
       "      <td>99696211</td>\n",
       "      <td>141</td>\n",
       "      <td>Online Products</td>\n",
       "      <td>2305564.80</td>\n",
       "    </tr>\n",
       "    <tr>\n",
       "      <th>3</th>\n",
       "      <td>99696211</td>\n",
       "      <td>140</td>\n",
       "      <td>Online Products</td>\n",
       "      <td>2234395.80</td>\n",
       "    </tr>\n",
       "    <tr>\n",
       "      <th>4</th>\n",
       "      <td>99696211</td>\n",
       "      <td>139</td>\n",
       "      <td>Online Products</td>\n",
       "      <td>1750056.00</td>\n",
       "    </tr>\n",
       "    <tr>\n",
       "      <th>...</th>\n",
       "      <td>...</td>\n",
       "      <td>...</td>\n",
       "      <td>...</td>\n",
       "      <td>...</td>\n",
       "    </tr>\n",
       "    <tr>\n",
       "      <th>15302</th>\n",
       "      <td>68888109</td>\n",
       "      <td>143</td>\n",
       "      <td>Support</td>\n",
       "      <td>0.84</td>\n",
       "    </tr>\n",
       "    <tr>\n",
       "      <th>15303</th>\n",
       "      <td>68888109</td>\n",
       "      <td>140</td>\n",
       "      <td>Support</td>\n",
       "      <td>0.84</td>\n",
       "    </tr>\n",
       "    <tr>\n",
       "      <th>15304</th>\n",
       "      <td>68888109</td>\n",
       "      <td>142</td>\n",
       "      <td>Support</td>\n",
       "      <td>0.84</td>\n",
       "    </tr>\n",
       "    <tr>\n",
       "      <th>15305</th>\n",
       "      <td>68888109</td>\n",
       "      <td>134</td>\n",
       "      <td>Support</td>\n",
       "      <td>0.84</td>\n",
       "    </tr>\n",
       "    <tr>\n",
       "      <th>15306</th>\n",
       "      <td>89393119</td>\n",
       "      <td>143</td>\n",
       "      <td>Support</td>\n",
       "      <td>0.84</td>\n",
       "    </tr>\n",
       "  </tbody>\n",
       "</table>\n",
       "<p>15307 rows × 4 columns</p>\n",
       "</div>"
      ],
      "text/plain": [
       "       Account_No  Month_ID Product_Category      Target\n",
       "0        99696211       143  Online Products  2984094.12\n",
       "1        99696211       142  Online Products  2839413.36\n",
       "2        99696211       141  Online Products  2305564.80\n",
       "3        99696211       140  Online Products  2234395.80\n",
       "4        99696211       139  Online Products  1750056.00\n",
       "...           ...       ...              ...         ...\n",
       "15302    68888109       143          Support        0.84\n",
       "15303    68888109       140          Support        0.84\n",
       "15304    68888109       142          Support        0.84\n",
       "15305    68888109       134          Support        0.84\n",
       "15306    89393119       143          Support        0.84\n",
       "\n",
       "[15307 rows x 4 columns]"
      ]
     },
     "execution_count": 4,
     "metadata": {},
     "output_type": "execute_result"
    }
   ],
   "source": [
    "df"
   ]
  },
  {
   "cell_type": "code",
   "execution_count": 7,
   "metadata": {},
   "outputs": [],
   "source": [
    "#change encoding to utf-8. Regular encoding is not needed here. \n",
    "df.to_csv('do_not_use.csv', encoding='utf-8')"
   ]
  },
  {
   "cell_type": "code",
   "execution_count": null,
   "metadata": {},
   "outputs": [],
   "source": []
  }
 ],
 "metadata": {
  "kernelspec": {
   "display_name": "Python 3",
   "language": "python",
   "name": "python3"
  },
  "language_info": {
   "codemirror_mode": {
    "name": "ipython",
    "version": 3
   },
   "file_extension": ".py",
   "mimetype": "text/x-python",
   "name": "python",
   "nbconvert_exporter": "python",
   "pygments_lexer": "ipython3",
   "version": "3.8.5"
  }
 },
 "nbformat": 4,
 "nbformat_minor": 4
}
